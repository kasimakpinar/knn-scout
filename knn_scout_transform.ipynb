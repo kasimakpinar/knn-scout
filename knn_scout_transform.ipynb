{
 "cells": [
  {
   "cell_type": "markdown",
   "metadata": {},
   "source": [
    "## Transforming Data\n",
    "\n",
    "In this section, we'll transform the data to make it ready for algorithm as correct as possible (check Readme for details)."
   ]
  },
  {
   "cell_type": "code",
   "execution_count": 1,
   "metadata": {
    "collapsed": true
   },
   "outputs": [],
   "source": [
    "import pandas as pd\n",
    "\n",
    "#minimum number of games played (firest eleven or substituted on) for a player to be evaluated\n",
    "#players who has played less then this number will be removed from data\n",
    "min_games = 10"
   ]
  },
  {
   "cell_type": "code",
   "execution_count": 2,
   "metadata": {
    "collapsed": true
   },
   "outputs": [],
   "source": [
    "#read player data from csv file\n",
    "player_stats_df = pd.read_csv(\"data/player_stats.csv\", index_col=0)"
   ]
  },
  {
   "cell_type": "markdown",
   "metadata": {},
   "source": [
    "First, non-numeric attributes will be dropped and then the data of transferred players will be separated"
   ]
  },
  {
   "cell_type": "code",
   "execution_count": 3,
   "metadata": {
    "collapsed": true
   },
   "outputs": [],
   "source": [
    "#get non-numeric attributes for the players. we'll use this player info data later to identify players \n",
    "players_df = player_stats_df[[\"player_id\", \"player_name\", \"team\", \"age\", \"country\",\n",
    "                             \"avg_rating\", \"height_cm\",\"position\", \"weight_kg\",\n",
    "                              \"first_eleven\", \"substituted_on\", \"minutes_played\"]].copy()\n",
    "\n",
    "#remove goalkeepers from the data since most of the stats are related to outfield players\n",
    "player_stats_df = player_stats_df.loc[player_stats_df[\"position\"] != \"GK\"]\n",
    "player_stats_df = player_stats_df.loc[player_stats_df[\"position\"] != \"Goalkeeper\"]\n",
    "\n",
    "#calculate total number of the games played by each player either as first eleven or being substituted on\n",
    "player_stats_df[\"games_played\"] = player_stats_df[\"first_eleven\"]+player_stats_df[\"substituted_on\"]\n",
    "\n",
    "#drop non-numeric attributes from data. we already saved these in another dataframe\n",
    "player_stats_df.drop([\"team\", \"age\", \"avg_rating\", \"country\", \"first_eleven\", \"height_cm\",\n",
    "                      \"minutes_played\", \"player_name\", \"position\", \"substituted_on\",\n",
    "                      \"weight_kg\"], axis=1, inplace=True)\n",
    "\n",
    "#number of ocurences of players in data\n",
    "#to identify players who transferred between teams during mid-season transfer window\n",
    "#stats for those players will be aggregated accordigly\n",
    "counts_df = player_stats_df.groupby([\"player_id\"]).size().reset_index(name=\"counts\")\n",
    "\n",
    "#add count of occurences to the dataframe as a new column\n",
    "player_stats_df = player_stats_df.merge(counts_df, on=\"player_id\")\n",
    "\n",
    "#get trasferred players into a new dataframe\n",
    "transferred_df = player_stats_df.loc[player_stats_df[\"counts\"] > 1]\n",
    "\n",
    "#remove transferred players. we'll add them after some calculations\n",
    "player_stats_df = player_stats_df.loc[player_stats_df[\"counts\"] < 2]\n",
    "\n",
    "#drop counts column since it's not necessary in this data\n",
    "player_stats_df.drop([\"counts\"], axis=1, inplace=True)"
   ]
  },
  {
   "cell_type": "markdown",
   "metadata": {},
   "source": [
    "Aggregate data for transferred players"
   ]
  },
  {
   "cell_type": "code",
   "execution_count": 4,
   "metadata": {
    "collapsed": true
   },
   "outputs": [],
   "source": [
    "#unlike other attributes, pass accuracy is a percentage\n",
    "#we need to calculate total number of accurate passes in order to aggregate pass accuracy correctly \n",
    "transferred_df[\"accurate_passes\"] = transferred_df[\"pass_accuracy\"]*transferred_df[\"passes\"]*transferred_df[\"games_played\"]/100\n",
    "\n",
    "#drop pass accuracy. it'll be re-calculated\n",
    "transferred_df.drop([\"pass_accuracy\", \"counts\"], axis=1, inplace=True)\n",
    "\n",
    "#some numbers are per game averages whilst some numbers are total occurrences in all the games played\n",
    "#per games numbers should be multiplied with the number of games played\n",
    "#in order to aggreagete those numbers correctly\n",
    "averages_df = transferred_df[[\"aerials_won\", \"bad_controls\", \"blocks\", \"clearances\", \"crosses\",\n",
    "               \"dispossessed\", \"dribbled_past\", \"dribbles\", \"fouled\", \"fouls\",\n",
    "               \"interceptions\", \"key_passes\", \"long_balls\", \"offsides\", \"offsides_won\",\n",
    "               \"passes\", \"shots\", \"tackles\", \"through_balls\"]].copy()\n",
    "\n",
    "#drop per game numbers. we'll add them after calculation.\n",
    "transferred_df.drop([\"aerials_won\", \"bad_controls\", \"blocks\", \"clearances\", \"crosses\",\n",
    "               \"dispossessed\", \"dribbled_past\", \"dribbles\", \"fouled\", \"fouls\",\n",
    "               \"interceptions\", \"key_passes\", \"long_balls\", \"offsides\", \"offsides_won\",\n",
    "               \"passes\", \"shots\", \"tackles\", \"through_balls\"], axis=1, inplace=True)\n",
    "\n",
    "#multiply per game numbers with the number of games played to get total number of occurrences\n",
    "averages_df = averages_df.mul(transferred_df[\"games_played\"], axis=0)\n",
    "\n",
    "#we don't want to multiply player ids, so added it after multiplication\n",
    "averages_df[\"player_id\"] = transferred_df[\"player_id\"]\n",
    "\n",
    "#now aggreagate, then drop player ids since we don't want to divide those ids\n",
    "averages_df = averages_df.groupby([\"player_id\"], as_index=False).sum()\n",
    "player_ids = averages_df[\"player_id\"]\n",
    "averages_df.drop([\"player_id\"], axis=1, inplace=True)\n",
    "\n",
    "#aggregate total numbers\n",
    "transferred_df = transferred_df.groupby([\"player_id\"], as_index=False).sum()\n",
    "\n",
    "#re-calculate averages by games played and then add player ids\n",
    "averages_df = averages_df.div(transferred_df[\"games_played\"], axis=0)\n",
    "averages_df[\"player_id\"] = player_ids\n",
    "\n",
    "#merge dataframes\n",
    "transferred_df = transferred_df.merge(averages_df, on=\"player_id\")\n",
    "\n",
    "#lastly, calculate pass accuracy as percentage and then we're good to go\n",
    "transferred_df[\"pass_accuracy\"] = 100*transferred_df[\"accurate_passes\"]/(transferred_df[\"passes\"]*transferred_df[\"games_played\"])\n",
    "transferred_df.drop([\"accurate_passes\"], axis=1, inplace=True)"
   ]
  },
  {
   "cell_type": "markdown",
   "metadata": {},
   "source": [
    "Add aggregated data to base dataframe and then do the normalization"
   ]
  },
  {
   "cell_type": "code",
   "execution_count": 5,
   "metadata": {
    "collapsed": true
   },
   "outputs": [],
   "source": [
    "#add re-calculated transferred players\n",
    "player_stats_df = player_stats_df.append(transferred_df)\n",
    "\n",
    "#change all the stats with total number of occurrences to per game averages\n",
    "player_stats_df[\"assists\"] = player_stats_df[\"assists\"]/player_stats_df[\"games_played\"]\n",
    "player_stats_df[\"goals\"] = player_stats_df[\"goals\"]/player_stats_df[\"games_played\"]\n",
    "player_stats_df[\"man_of_the_match\"] = player_stats_df[\"man_of_the_match\"]/player_stats_df[\"games_played\"]\n",
    "player_stats_df[\"own_goals\"] = player_stats_df[\"own_goals\"]/player_stats_df[\"games_played\"]\n",
    "player_stats_df[\"red_cards\"] = player_stats_df[\"red_cards\"]/player_stats_df[\"games_played\"]\n",
    "player_stats_df[\"yellow_cards\"] = player_stats_df[\"yellow_cards\"]/player_stats_df[\"games_played\"]\n",
    "\n",
    "#remove the players who didn't play at least given minimum number of games\n",
    "player_stats_df = player_stats_df.loc[player_stats_df[\"games_played\"] >= min_games]\n",
    "\n",
    "#we don't need number of games played anymore. it has been already saved in player info dataframe\n",
    "player_stats_df.drop([\"games_played\"], axis=1, inplace=True)\n",
    "\n",
    "#after adding transferred playersi there are some duplicate indexes, so we'll reset them\n",
    "player_stats_df.reset_index(drop=True, inplace=True)"
   ]
  },
  {
   "cell_type": "code",
   "execution_count": 6,
   "metadata": {
    "collapsed": true
   },
   "outputs": [],
   "source": [
    "#remove the bias in data (check \"transforming data\" section in readme)\n",
    "for column in player_stats_df:\n",
    "    if column != \"player_id\":\n",
    "        player_stats_df[column] = player_stats_df[column] / player_stats_df[column].max()"
   ]
  },
  {
   "cell_type": "markdown",
   "metadata": {},
   "source": [
    "Save data for stats and player information"
   ]
  },
  {
   "cell_type": "code",
   "execution_count": 7,
   "metadata": {
    "collapsed": true
   },
   "outputs": [],
   "source": [
    "#save dataframes\n",
    "players_df.to_csv(\"data/players.csv\", encoding=\"utf-8\")\n",
    "player_stats_df.to_csv(\"data/stats.csv\", encoding=\"utf-8\")"
   ]
  }
 ],
 "metadata": {
  "kernelspec": {
   "display_name": "Python 3",
   "language": "python",
   "name": "python3"
  },
  "language_info": {
   "codemirror_mode": {
    "name": "ipython",
    "version": 3
   },
   "file_extension": ".py",
   "mimetype": "text/x-python",
   "name": "python",
   "nbconvert_exporter": "python",
   "pygments_lexer": "ipython3",
   "version": "3.6.1"
  }
 },
 "nbformat": 4,
 "nbformat_minor": 2
}
