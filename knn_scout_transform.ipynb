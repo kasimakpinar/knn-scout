{
 "cells": [
  {
   "cell_type": "code",
   "execution_count": 1,
   "metadata": {
    "collapsed": true
   },
   "outputs": [],
   "source": [
    "import pandas as pd\n",
    "min_games = 10"
   ]
  },
  {
   "cell_type": "code",
   "execution_count": 2,
   "metadata": {
    "collapsed": true
   },
   "outputs": [],
   "source": [
    "player_stats_df = pd.read_csv(\"player_stats.csv\", index_col=0)"
   ]
  },
  {
   "cell_type": "code",
   "execution_count": 3,
   "metadata": {
    "collapsed": true
   },
   "outputs": [],
   "source": [
    "players_df = player_stats_df[[\"player_id\", \"player_name\", \"team\", \"age\", \"country\",\n",
    "                             \"avg_rating\", \"height_cm\",\"position\", \"weight_kg\"]].copy()\n",
    "players_df.drop_duplicates(inplace=True)\n",
    "\n",
    "player_stats_df = player_stats_df.loc[player_stats_df[\"position\"] != \"GK\"]\n",
    "player_stats_df = player_stats_df.loc[player_stats_df[\"position\"] != \"Goalkeeper\"]\n",
    "\n",
    "player_stats_df[\"games_played\"] = player_stats_df[\"first_eleven\"]+player_stats_df[\"substituted_on\"]\n",
    "\n",
    "player_stats_df.drop([\"team\", \"age\", \"avg_rating\", \"country\", \"first_eleven\", \"height_cm\", \"minutes_played\", \"player_name\",\n",
    "                      \"position\", \"substituted_on\", \"weight_kg\"], axis=1, inplace=True)\n",
    "\n",
    "counts_df = player_stats_df.groupby([\"player_id\"]).size().reset_index(name=\"counts\")\n",
    "\n",
    "player_stats_df = player_stats_df.merge(counts_df, on=\"player_id\")\n",
    "\n",
    "transferred_df = player_stats_df.loc[player_stats_df[\"counts\"] > 1]\n",
    "\n",
    "player_stats_df = player_stats_df.loc[player_stats_df[\"counts\"] < 2]\n",
    "player_stats_df.drop([\"counts\"], axis=1, inplace=True)"
   ]
  },
  {
   "cell_type": "code",
   "execution_count": 4,
   "metadata": {
    "collapsed": true
   },
   "outputs": [],
   "source": [
    "transferred_df[\"accurate_passes\"] = transferred_df[\"pass_accuracy\"]*transferred_df[\"passes\"]*transferred_df[\"games_played\"]/100\n",
    "transferred_df.drop([\"pass_accuracy\", \"counts\"], axis=1, inplace=True)\n",
    "\n",
    "averages_df = transferred_df[[\"aerials_won\", \"bad_controls\", \"blocks\", \"clearances\", \"crosses\",\n",
    "               \"dispossessed\", \"dribbled_past\", \"dribbles\", \"fouled\", \"fouls\",\n",
    "               \"interceptions\", \"key_passes\", \"long_balls\", \"offsides\", \"offsides_won\",\n",
    "               \"passes\", \"shots\", \"tackles\", \"through_balls\"]].copy()\n",
    "\n",
    "transferred_df.drop([\"aerials_won\", \"bad_controls\", \"blocks\", \"clearances\", \"crosses\",\n",
    "               \"dispossessed\", \"dribbled_past\", \"dribbles\", \"fouled\", \"fouls\",\n",
    "               \"interceptions\", \"key_passes\", \"long_balls\", \"offsides\", \"offsides_won\",\n",
    "               \"passes\", \"shots\", \"tackles\", \"through_balls\"], axis=1, inplace=True)\n",
    "\n",
    "averages_df = averages_df.mul(transferred_df[\"games_played\"], axis=0)\n",
    "averages_df[\"player_id\"] = transferred_df[\"player_id\"]\n",
    "\n",
    "averages_df = averages_df.groupby([\"player_id\"], as_index=False).sum()\n",
    "player_ids = averages_df[\"player_id\"]\n",
    "averages_df.drop([\"player_id\"], axis=1, inplace=True)\n",
    "\n",
    "transferred_df = transferred_df.groupby([\"player_id\"], as_index=False).sum()\n",
    "\n",
    "averages_df = averages_df.div(transferred_df[\"games_played\"], axis=0)\n",
    "averages_df[\"player_id\"] = player_ids\n",
    "\n",
    "transferred_df = transferred_df.merge(averages_df, on=\"player_id\")\n",
    "\n",
    "transferred_df[\"pass_accuracy\"] = 100*transferred_df[\"accurate_passes\"]/(transferred_df[\"passes\"]*transferred_df[\"games_played\"])\n",
    "transferred_df.drop([\"accurate_passes\"], axis=1, inplace=True)"
   ]
  },
  {
   "cell_type": "code",
   "execution_count": 5,
   "metadata": {
    "collapsed": true
   },
   "outputs": [],
   "source": [
    "player_stats_df = player_stats_df.append(transferred_df)\n",
    "\n",
    "player_stats_df[\"assists\"] = player_stats_df[\"assists\"]/player_stats_df[\"games_played\"]\n",
    "player_stats_df[\"goals\"] = player_stats_df[\"goals\"]/player_stats_df[\"games_played\"]\n",
    "player_stats_df[\"man_of_the_match\"] = player_stats_df[\"man_of_the_match\"]/player_stats_df[\"games_played\"]\n",
    "player_stats_df[\"own_goals\"] = player_stats_df[\"own_goals\"]/player_stats_df[\"games_played\"]\n",
    "player_stats_df[\"red_cards\"] = player_stats_df[\"red_cards\"]/player_stats_df[\"games_played\"]\n",
    "player_stats_df[\"yellow_cards\"] = player_stats_df[\"yellow_cards\"]/player_stats_df[\"games_played\"]\n",
    "\n",
    "player_stats_df = player_stats_df.loc[player_stats_df[\"games_played\"] >= min_games]\n",
    "\n",
    "player_stats_df.drop([\"games_played\"], axis=1, inplace=True)\n",
    "\n",
    "player_stats_df.reset_index(drop=True, inplace=True)"
   ]
  },
  {
   "cell_type": "code",
   "execution_count": 6,
   "metadata": {
    "collapsed": true
   },
   "outputs": [],
   "source": [
    "for column in player_stats_df:\n",
    "    if column != \"player_id\":\n",
    "        player_stats_df[column] = player_stats_df[column] / player_stats_df[column].max()"
   ]
  },
  {
   "cell_type": "code",
   "execution_count": 7,
   "metadata": {
    "collapsed": true
   },
   "outputs": [],
   "source": [
    "players_df.to_csv(\"players.csv\", encoding=\"utf-8\")\n",
    "player_stats_df.to_csv(\"stats.csv\", encoding=\"utf-8\")"
   ]
  }
 ],
 "metadata": {
  "kernelspec": {
   "display_name": "Python 3",
   "language": "python",
   "name": "python3"
  },
  "language_info": {
   "codemirror_mode": {
    "name": "ipython",
    "version": 3
   },
   "file_extension": ".py",
   "mimetype": "text/x-python",
   "name": "python",
   "nbconvert_exporter": "python",
   "pygments_lexer": "ipython3",
   "version": "3.6.1"
  }
 },
 "nbformat": 4,
 "nbformat_minor": 2
}
