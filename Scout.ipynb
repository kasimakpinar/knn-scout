{
 "cells": [
  {
   "cell_type": "code",
   "execution_count": 1,
   "metadata": {
    "collapsed": true
   },
   "outputs": [],
   "source": [
    "import pandas as pd\n",
    "from sklearn.neighbors import NearestNeighbors"
   ]
  },
  {
   "cell_type": "code",
   "execution_count": 2,
   "metadata": {
    "collapsed": true
   },
   "outputs": [],
   "source": [
    "stats_df = pd.read_csv(\"stats.csv\", index_col=0)\n",
    "player_ids = stats_df[\"player_id\"]\n",
    "stats_df.set_index(\"player_id\", inplace=True)\n",
    "\n",
    "players_df = pd.read_csv(\"players.csv\", index_col=0)"
   ]
  },
  {
   "cell_type": "code",
   "execution_count": 3,
   "metadata": {},
   "outputs": [],
   "source": [
    "player_id = 5583 #cristiano ronaldo 5583\n",
    "player = stats_df.loc[player_id]\n",
    "stats_df.drop([player_id], axis=0, inplace=True)\n",
    "\n",
    "stats = stats_df.values\n",
    "player = player.values\n",
    "player = player.reshape(1, -1)"
   ]
  },
  {
   "cell_type": "code",
   "execution_count": 4,
   "metadata": {},
   "outputs": [
    {
     "data": {
      "text/plain": [
       "NearestNeighbors(algorithm='auto', leaf_size=30, metric='minkowski',\n",
       "         metric_params=None, n_jobs=1, n_neighbors=10, p=2, radius=1.0)"
      ]
     },
     "execution_count": 4,
     "metadata": {},
     "output_type": "execute_result"
    }
   ],
   "source": [
    "neigh = NearestNeighbors(n_neighbors=10)\n",
    "neigh.fit(stats_df)"
   ]
  },
  {
   "cell_type": "code",
   "execution_count": 5,
   "metadata": {},
   "outputs": [],
   "source": [
    "result = neigh.kneighbors(player, return_distance=False)"
   ]
  },
  {
   "cell_type": "code",
   "execution_count": 6,
   "metadata": {},
   "outputs": [
    {
     "data": {
      "text/html": [
       "<div>\n",
       "<style>\n",
       "    .dataframe thead tr:only-child th {\n",
       "        text-align: right;\n",
       "    }\n",
       "\n",
       "    .dataframe thead th {\n",
       "        text-align: left;\n",
       "    }\n",
       "\n",
       "    .dataframe tbody tr th {\n",
       "        vertical-align: top;\n",
       "    }\n",
       "</style>\n",
       "<table border=\"1\" class=\"dataframe\">\n",
       "  <thead>\n",
       "    <tr style=\"text-align: right;\">\n",
       "      <th></th>\n",
       "      <th>player_id</th>\n",
       "      <th>player_name</th>\n",
       "      <th>age</th>\n",
       "      <th>country</th>\n",
       "      <th>height_cm</th>\n",
       "      <th>position</th>\n",
       "      <th>weight_kg</th>\n",
       "    </tr>\n",
       "  </thead>\n",
       "  <tbody>\n",
       "    <tr>\n",
       "      <th>0</th>\n",
       "      <td>83532</td>\n",
       "      <td>Harry Kane</td>\n",
       "      <td>24</td>\n",
       "      <td>gb</td>\n",
       "      <td>188</td>\n",
       "      <td>AM(C),FW</td>\n",
       "      <td>86</td>\n",
       "    </tr>\n",
       "    <tr>\n",
       "      <th>1</th>\n",
       "      <td>328443</td>\n",
       "      <td>Marko Kvasina</td>\n",
       "      <td>21</td>\n",
       "      <td>at</td>\n",
       "      <td>194</td>\n",
       "      <td>Forward</td>\n",
       "      <td>82</td>\n",
       "    </tr>\n",
       "    <tr>\n",
       "      <th>2</th>\n",
       "      <td>14260</td>\n",
       "      <td>Sergio Agüero</td>\n",
       "      <td>30</td>\n",
       "      <td>ar</td>\n",
       "      <td>173</td>\n",
       "      <td>AM(CL),FW</td>\n",
       "      <td>70</td>\n",
       "    </tr>\n",
       "    <tr>\n",
       "      <th>3</th>\n",
       "      <td>50835</td>\n",
       "      <td>Neymar</td>\n",
       "      <td>26</td>\n",
       "      <td>br</td>\n",
       "      <td>175</td>\n",
       "      <td>AM(CLR),FW</td>\n",
       "      <td>68</td>\n",
       "    </tr>\n",
       "    <tr>\n",
       "      <th>4</th>\n",
       "      <td>70967</td>\n",
       "      <td>André André</td>\n",
       "      <td>28</td>\n",
       "      <td>pt</td>\n",
       "      <td>174</td>\n",
       "      <td>M(C)</td>\n",
       "      <td>65</td>\n",
       "    </tr>\n",
       "    <tr>\n",
       "      <th>5</th>\n",
       "      <td>9730</td>\n",
       "      <td>Fabio Quagliarella</td>\n",
       "      <td>35</td>\n",
       "      <td>it</td>\n",
       "      <td>180</td>\n",
       "      <td>FW</td>\n",
       "      <td>79</td>\n",
       "    </tr>\n",
       "    <tr>\n",
       "      <th>6</th>\n",
       "      <td>43921</td>\n",
       "      <td>Gonçalo</td>\n",
       "      <td>31</td>\n",
       "      <td>pt</td>\n",
       "      <td>184</td>\n",
       "      <td>DMC</td>\n",
       "      <td>79</td>\n",
       "    </tr>\n",
       "    <tr>\n",
       "      <th>7</th>\n",
       "      <td>106964</td>\n",
       "      <td>Mauro Icardi</td>\n",
       "      <td>25</td>\n",
       "      <td>ar</td>\n",
       "      <td>181</td>\n",
       "      <td>FW</td>\n",
       "      <td>75</td>\n",
       "    </tr>\n",
       "    <tr>\n",
       "      <th>8</th>\n",
       "      <td>70141</td>\n",
       "      <td>Ciro Immobile</td>\n",
       "      <td>28</td>\n",
       "      <td>it</td>\n",
       "      <td>185</td>\n",
       "      <td>FW</td>\n",
       "      <td>78</td>\n",
       "    </tr>\n",
       "    <tr>\n",
       "      <th>9</th>\n",
       "      <td>302588</td>\n",
       "      <td>Bernardo</td>\n",
       "      <td>23</td>\n",
       "      <td>br</td>\n",
       "      <td>186</td>\n",
       "      <td>D(LR)</td>\n",
       "      <td>76</td>\n",
       "    </tr>\n",
       "  </tbody>\n",
       "</table>\n",
       "</div>"
      ],
      "text/plain": [
       "   player_id         player_name  age country  height_cm    position  \\\n",
       "0      83532          Harry Kane   24      gb        188    AM(C),FW   \n",
       "1     328443       Marko Kvasina   21      at        194     Forward   \n",
       "2      14260       Sergio Agüero   30      ar        173   AM(CL),FW   \n",
       "3      50835              Neymar   26      br        175  AM(CLR),FW   \n",
       "4      70967         André André   28      pt        174        M(C)   \n",
       "5       9730  Fabio Quagliarella   35      it        180          FW   \n",
       "6      43921             Gonçalo   31      pt        184         DMC   \n",
       "7     106964        Mauro Icardi   25      ar        181          FW   \n",
       "8      70141       Ciro Immobile   28      it        185          FW   \n",
       "9     302588            Bernardo   23      br        186       D(LR)   \n",
       "\n",
       "   weight_kg  \n",
       "0         86  \n",
       "1         82  \n",
       "2         70  \n",
       "3         68  \n",
       "4         65  \n",
       "5         79  \n",
       "6         79  \n",
       "7         75  \n",
       "8         78  \n",
       "9         76  "
      ]
     },
     "execution_count": 6,
     "metadata": {},
     "output_type": "execute_result"
    }
   ],
   "source": [
    "result_df = pd.DataFrame(columns=[\"player_id\"])\n",
    "\n",
    "result_ids = [0] * 10\n",
    "\n",
    "for i in range(10):\n",
    "    result_ids[i] = player_ids.iloc[result[0][i]]\n",
    "\n",
    "result_df[\"player_id\"] = pd.Series(result_ids)\n",
    "result_df = result_df.merge(players_df, on=\"player_id\", how=\"left\")\n",
    "result_df.iloc[:]"
   ]
  },
  {
   "cell_type": "code",
   "execution_count": null,
   "metadata": {
    "collapsed": true
   },
   "outputs": [],
   "source": []
  }
 ],
 "metadata": {
  "kernelspec": {
   "display_name": "Python 3",
   "language": "python",
   "name": "python3"
  },
  "language_info": {
   "codemirror_mode": {
    "name": "ipython",
    "version": 3
   },
   "file_extension": ".py",
   "mimetype": "text/x-python",
   "name": "python",
   "nbconvert_exporter": "python",
   "pygments_lexer": "ipython3",
   "version": "3.6.1"
  }
 },
 "nbformat": 4,
 "nbformat_minor": 2
}
