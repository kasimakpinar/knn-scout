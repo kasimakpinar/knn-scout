{
 "cells": [
  {
   "cell_type": "code",
   "execution_count": 1,
   "metadata": {
    "collapsed": true
   },
   "outputs": [],
   "source": [
    "import pandas as pd\n",
    "from sklearn.neighbors import NearestNeighbors"
   ]
  },
  {
   "cell_type": "code",
   "execution_count": 2,
   "metadata": {
    "collapsed": true
   },
   "outputs": [],
   "source": [
    "stats_df = pd.read_csv(\"stats.csv\", index_col=0)\n",
    "player_ids = stats_df[\"player_id\"]\n",
    "stats_df.set_index(\"player_id\", inplace=True)\n",
    "\n",
    "players_df = pd.read_csv(\"players.csv\", index_col=0)"
   ]
  },
  {
   "cell_type": "code",
   "execution_count": 3,
   "metadata": {},
   "outputs": [],
   "source": [
    "player_id = 77438 #cristiano ronaldo 5583\n",
    "player = stats_df.loc[player_id]\n",
    "stats_df.drop([player_id], axis=0, inplace=True)\n",
    "\n",
    "stats = stats_df.values\n",
    "player = player.values\n",
    "player = player.reshape(1, -1)"
   ]
  },
  {
   "cell_type": "code",
   "execution_count": 4,
   "metadata": {},
   "outputs": [
    {
     "data": {
      "text/plain": [
       "NearestNeighbors(algorithm='auto', leaf_size=30, metric='minkowski',\n",
       "         metric_params=None, n_jobs=1, n_neighbors=10, p=2, radius=1.0)"
      ]
     },
     "execution_count": 4,
     "metadata": {},
     "output_type": "execute_result"
    }
   ],
   "source": [
    "neigh = NearestNeighbors(n_neighbors=10)\n",
    "neigh.fit(stats_df)"
   ]
  },
  {
   "cell_type": "code",
   "execution_count": 5,
   "metadata": {},
   "outputs": [],
   "source": [
    "result = neigh.kneighbors(player, return_distance=False)"
   ]
  },
  {
   "cell_type": "code",
   "execution_count": 6,
   "metadata": {},
   "outputs": [
    {
     "name": "stdout",
     "output_type": "stream",
     "text": [
      "[[1842  578 2777  134  848  193 2872 2420  452 2135]]\n"
     ]
    }
   ],
   "source": [
    "print(result)"
   ]
  },
  {
   "cell_type": "code",
   "execution_count": 7,
   "metadata": {},
   "outputs": [
    {
     "data": {
      "text/html": [
       "<div>\n",
       "<style>\n",
       "    .dataframe thead tr:only-child th {\n",
       "        text-align: right;\n",
       "    }\n",
       "\n",
       "    .dataframe thead th {\n",
       "        text-align: left;\n",
       "    }\n",
       "\n",
       "    .dataframe tbody tr th {\n",
       "        vertical-align: top;\n",
       "    }\n",
       "</style>\n",
       "<table border=\"1\" class=\"dataframe\">\n",
       "  <thead>\n",
       "    <tr style=\"text-align: right;\">\n",
       "      <th></th>\n",
       "      <th>player_id</th>\n",
       "      <th>player_name</th>\n",
       "      <th>age</th>\n",
       "      <th>country</th>\n",
       "      <th>height_cm</th>\n",
       "      <th>position</th>\n",
       "      <th>weight_kg</th>\n",
       "    </tr>\n",
       "  </thead>\n",
       "  <tbody>\n",
       "    <tr>\n",
       "      <th>0</th>\n",
       "      <td>135563</td>\n",
       "      <td>Paulinho</td>\n",
       "      <td>25</td>\n",
       "      <td>pt</td>\n",
       "      <td>187</td>\n",
       "      <td>FW</td>\n",
       "      <td>75</td>\n",
       "    </tr>\n",
       "    <tr>\n",
       "      <th>1</th>\n",
       "      <td>294169</td>\n",
       "      <td>Kevin Lasagna</td>\n",
       "      <td>25</td>\n",
       "      <td>it</td>\n",
       "      <td>185</td>\n",
       "      <td>AM(L),FW</td>\n",
       "      <td>80</td>\n",
       "    </tr>\n",
       "    <tr>\n",
       "      <th>2</th>\n",
       "      <td>29231</td>\n",
       "      <td>Evgen Seleznyov</td>\n",
       "      <td>32</td>\n",
       "      <td>ua</td>\n",
       "      <td>185</td>\n",
       "      <td>FW</td>\n",
       "      <td>77</td>\n",
       "    </tr>\n",
       "    <tr>\n",
       "      <th>3</th>\n",
       "      <td>111141</td>\n",
       "      <td>Oumar Niasse</td>\n",
       "      <td>28</td>\n",
       "      <td>sn</td>\n",
       "      <td>182</td>\n",
       "      <td>FW</td>\n",
       "      <td>75</td>\n",
       "    </tr>\n",
       "    <tr>\n",
       "      <th>4</th>\n",
       "      <td>22325</td>\n",
       "      <td>Ángel Rodríguez</td>\n",
       "      <td>31</td>\n",
       "      <td>es</td>\n",
       "      <td>172</td>\n",
       "      <td>FW</td>\n",
       "      <td>68</td>\n",
       "    </tr>\n",
       "    <tr>\n",
       "      <th>5</th>\n",
       "      <td>134115</td>\n",
       "      <td>Callum Wilson</td>\n",
       "      <td>26</td>\n",
       "      <td>gb</td>\n",
       "      <td>180</td>\n",
       "      <td>FW</td>\n",
       "      <td>66</td>\n",
       "    </tr>\n",
       "    <tr>\n",
       "      <th>6</th>\n",
       "      <td>133381</td>\n",
       "      <td>Vincent Janssen</td>\n",
       "      <td>24</td>\n",
       "      <td>nl</td>\n",
       "      <td>180</td>\n",
       "      <td>FW</td>\n",
       "      <td>79</td>\n",
       "    </tr>\n",
       "    <tr>\n",
       "      <th>7</th>\n",
       "      <td>343393</td>\n",
       "      <td>Tom Boere</td>\n",
       "      <td>25</td>\n",
       "      <td>nl</td>\n",
       "      <td>183</td>\n",
       "      <td>FW</td>\n",
       "      <td>80</td>\n",
       "    </tr>\n",
       "    <tr>\n",
       "      <th>8</th>\n",
       "      <td>329681</td>\n",
       "      <td>Patrick Cutrone</td>\n",
       "      <td>20</td>\n",
       "      <td>it</td>\n",
       "      <td>183</td>\n",
       "      <td>FW</td>\n",
       "      <td>75</td>\n",
       "    </tr>\n",
       "    <tr>\n",
       "      <th>9</th>\n",
       "      <td>8013</td>\n",
       "      <td>Klaas-Jan Huntelaar</td>\n",
       "      <td>34</td>\n",
       "      <td>nl</td>\n",
       "      <td>186</td>\n",
       "      <td>FW</td>\n",
       "      <td>83</td>\n",
       "    </tr>\n",
       "  </tbody>\n",
       "</table>\n",
       "</div>"
      ],
      "text/plain": [
       "   player_id          player_name  age country  height_cm  position  weight_kg\n",
       "0     135563             Paulinho   25      pt        187        FW         75\n",
       "1     294169        Kevin Lasagna   25      it        185  AM(L),FW         80\n",
       "2      29231      Evgen Seleznyov   32      ua        185        FW         77\n",
       "3     111141         Oumar Niasse   28      sn        182        FW         75\n",
       "4      22325      Ángel Rodríguez   31      es        172        FW         68\n",
       "5     134115        Callum Wilson   26      gb        180        FW         66\n",
       "6     133381      Vincent Janssen   24      nl        180        FW         79\n",
       "7     343393            Tom Boere   25      nl        183        FW         80\n",
       "8     329681      Patrick Cutrone   20      it        183        FW         75\n",
       "9       8013  Klaas-Jan Huntelaar   34      nl        186        FW         83"
      ]
     },
     "execution_count": 7,
     "metadata": {},
     "output_type": "execute_result"
    }
   ],
   "source": [
    "result_df = pd.DataFrame(columns=[\"player_id\"])\n",
    "\n",
    "result_ids = [0] * 10\n",
    "\n",
    "for i in range(10):\n",
    "    result_ids[i] = player_ids.iloc[result[0][i]]\n",
    "\n",
    "result_df[\"player_id\"] = pd.Series(result_ids)\n",
    "result_df = result_df.merge(players_df, on=\"player_id\", how=\"left\")\n",
    "result_df.iloc[:]"
   ]
  },
  {
   "cell_type": "code",
   "execution_count": null,
   "metadata": {
    "collapsed": true
   },
   "outputs": [],
   "source": []
  }
 ],
 "metadata": {
  "kernelspec": {
   "display_name": "Python 3",
   "language": "python",
   "name": "python3"
  },
  "language_info": {
   "codemirror_mode": {
    "name": "ipython",
    "version": 3
   },
   "file_extension": ".py",
   "mimetype": "text/x-python",
   "name": "python",
   "nbconvert_exporter": "python",
   "pygments_lexer": "ipython3",
   "version": "3.6.1"
  }
 },
 "nbformat": 4,
 "nbformat_minor": 2
}
